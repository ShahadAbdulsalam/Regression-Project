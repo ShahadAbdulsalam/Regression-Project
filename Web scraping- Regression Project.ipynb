{
 "cells": [
  {
   "cell_type": "markdown",
   "id": "3ffbd420",
   "metadata": {},
   "source": [
    "# Object:\n",
    "\n",
    "## tracking the market capitalization of (Solana coin) for a year and half."
   ]
  },
  {
   "cell_type": "markdown",
   "id": "a9004a20",
   "metadata": {},
   "source": [
    "# Description:\n",
    "## using open/closed and high/low prices with the volume to estimate the market capitalization value for each day."
   ]
  },
  {
   "cell_type": "markdown",
   "id": "8077b05d",
   "metadata": {},
   "source": [
    "# REFERENCE:\n",
    "## https://coinmarketcap.com/currencies/solana/historical-data/"
   ]
  },
  {
   "cell_type": "markdown",
   "id": "44cccaff",
   "metadata": {},
   "source": [
    "# Tools:\n",
    "## - Selenium.\n",
    "## - BeautifulSoup.\n",
    "## - Seaborn.\n",
    "## - Matplotlib.\n",
    "## - Linear regression.\n",
    "## - EDA"
   ]
  }
 ],
 "metadata": {
  "kernelspec": {
   "display_name": "Python 3",
   "language": "python",
   "name": "python3"
  },
  "language_info": {
   "codemirror_mode": {
    "name": "ipython",
    "version": 3
   },
   "file_extension": ".py",
   "mimetype": "text/x-python",
   "name": "python",
   "nbconvert_exporter": "python",
   "pygments_lexer": "ipython3",
   "version": "3.8.8"
  }
 },
 "nbformat": 4,
 "nbformat_minor": 5
}
